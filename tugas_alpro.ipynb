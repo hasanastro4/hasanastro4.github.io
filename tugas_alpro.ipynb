{
 "cells": [
  {
   "cell_type": "markdown",
   "id": "e0834248-354a-4e35-9665-470ef3ec56a0",
   "metadata": {},
   "source": [
    " # Tugas \n",
    " \n",
    " 1. Buat array bilangan (x) dari 1 sampai 1000 dengan jumlah data 10001!\n",
    " 2. Buat array bilangan (y) dari 1 sampai 1000 dengan jarak antar bilangan 0.05!\n",
    " 3. Buat array persamaan $ z = e^{-x^2} + \\sin (2 \\pi x) $!\n",
    " 4. Cek panjang array z! \n",
    " 5. Buat bilangan random [0,1) sebanyak 10001 bilangan!"
   ]
  },
  {
   "cell_type": "code",
   "execution_count": 4,
   "id": "657b2877-6c46-477b-8707-9e2647f76749",
   "metadata": {},
   "outputs": [],
   "source": [
    "import numpy as np"
   ]
  },
  {
   "cell_type": "code",
   "execution_count": 5,
   "id": "122d2194-2d75-4859-9e6b-2a2de4f45514",
   "metadata": {},
   "outputs": [],
   "source": [
    "### 1. Jawaban tugas soal no. 1 "
   ]
  },
  {
   "cell_type": "code",
   "execution_count": 6,
   "id": "131132ea-685c-427c-a8d9-8c866fa295c3",
   "metadata": {},
   "outputs": [],
   "source": [
    "x = np.linspace(1,1000,10001)"
   ]
  },
  {
   "cell_type": "code",
   "execution_count": null,
   "id": "e81548ec-fc5f-486c-9c51-23ff03f1d02b",
   "metadata": {},
   "outputs": [],
   "source": []
  }
 ],
 "metadata": {
  "kernelspec": {
   "display_name": "Python 3 (ipykernel)",
   "language": "python",
   "name": "python3"
  },
  "language_info": {
   "codemirror_mode": {
    "name": "ipython",
    "version": 3
   },
   "file_extension": ".py",
   "mimetype": "text/x-python",
   "name": "python",
   "nbconvert_exporter": "python",
   "pygments_lexer": "ipython3",
   "version": "3.9.12"
  }
 },
 "nbformat": 4,
 "nbformat_minor": 5
}
